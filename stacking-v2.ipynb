{
 "cells": [
  {
   "cell_type": "markdown",
   "metadata": {},
   "source": [
    "good reference for stacking: https://www.kaggle.com/c/otto-group-product-classification-challenge/discussion/14335\n",
    "        "
   ]
  },
  {
   "cell_type": "markdown",
   "metadata": {},
   "source": [
    "### Loading needed libs"
   ]
  },
  {
   "cell_type": "code",
   "execution_count": 31,
   "metadata": {},
   "outputs": [],
   "source": [
    "import numpy as np\n",
    "import math\n",
    "import pandas as pd\n",
    "\n",
    "import pandas as pd\n",
    "import numpy as np\n",
    "from scipy.stats import randint\n",
    "import seaborn as sns # used for plot interactive graph. \n",
    "import matplotlib.pyplot as plt\n",
    "import seaborn as sns\n",
    "from io import StringIO\n",
    "from sklearn.feature_extraction.text import *\n",
    "\n",
    "from sklearn.feature_selection import chi2\n",
    "from IPython.display import display\n",
    "from sklearn.model_selection import train_test_split\n",
    "from sklearn.feature_extraction.text import TfidfTransformer\n",
    "from sklearn.naive_bayes import MultinomialNB\n",
    "from sklearn.linear_model import LogisticRegression\n",
    "from sklearn.ensemble import *\n",
    "from sklearn.svm import LinearSVC\n",
    "from sklearn.model_selection import cross_val_score\n",
    "from sklearn.metrics import confusion_matrix\n",
    "from sklearn import metrics\n",
    "from sklearn.naive_bayes import GaussianNB\n",
    "from sklearn.naive_bayes import BernoulliNB\n",
    "from sklearn.neighbors import KNeighborsClassifier\n",
    "from sklearn.neural_network import MLPClassifier\n",
    "import pickle\n",
    "from sklearn.svm import SVC\n",
    "from xgboost import XGBClassifier\n",
    "from time import time\n",
    "from keras.utils.np_utils import to_categorical  \n",
    "from sklearn.linear_model import *\n",
    "import lightgbm as lgb"
   ]
  },
  {
   "cell_type": "markdown",
   "metadata": {},
   "source": [
    "### Finding the features"
   ]
  },
  {
   "cell_type": "code",
   "execution_count": 75,
   "metadata": {},
   "outputs": [],
   "source": [
    "# make predictions for multinoulli NB\n",
    "df = pd.read_csv('reddit_train.csv')\n",
    "df2 = pd.read_csv('reddit_test.csv')\n",
    "df = df.sample(frac=1)\n",
    "# df = df.iloc[:3000,:]"
   ]
  },
  {
   "cell_type": "code",
   "execution_count": 76,
   "metadata": {},
   "outputs": [],
   "source": [
    "df['category_id'], mapping = df['subreddits'].factorize()"
   ]
  },
  {
   "cell_type": "code",
   "execution_count": 91,
   "metadata": {},
   "outputs": [],
   "source": [
    "# tfidf = HashingVectorizer()\n",
    "tfidf = TfidfVectorizer()\n",
    "features = tfidf.fit_transform(df.comments)\n",
    "features_test = tfidf.transform(df2.comments)\n",
    "\n",
    "labels = df.category_id\n",
    "\n",
    "from sklearn.feature_selection import SelectKBest, chi2\n",
    "SelectKBest(chi2, k=1000)"
   ]
  },
  {
   "cell_type": "markdown",
   "metadata": {},
   "source": [
    "### Code for fine tuning and check which models are the best"
   ]
  },
  {
   "cell_type": "code",
   "execution_count": 89,
   "metadata": {},
   "outputs": [
    {
     "name": "stdout",
     "output_type": "stream",
     "text": [
      "0.01 0.4187\n",
      "0.05 0.4995\n",
      "0.1 0.52285\n",
      "0.15 0.53295\n",
      "0.2 0.53785\n",
      "0.3 0.543\n",
      "0.5 0.5456\n",
      "1 0.5439\n"
     ]
    },
    {
     "data": {
      "text/plain": [
       "[<matplotlib.lines.Line2D at 0x7f3677f3a0b8>]"
      ]
     },
     "execution_count": 89,
     "metadata": {},
     "output_type": "execute_result"
    },
    {
     "data": {
      "image/png": "[encoded data removed]",
      "text/plain": [
       "<Figure size 432x288 with 1 Axes>"
      ]
     },
     "metadata": {
      "needs_background": "light"
     },
     "output_type": "display_data"
    }
   ],
   "source": [
    "test_acc = []\n",
    "vals = [0.01, 0.05, 0.1, 0.15, 0.20, 0.3, 0.5, 1]\n",
    "for i in vals:\n",
    "    gNB = LinearSVC(C=i)\n",
    "    gNB.fit(features[:50000,:],labels[:50000])\n",
    "    test_acc.append(np.mean(gNB.predict(features[50000:,:])==labels[50000:]))\n",
    "    print(i, np.mean(gNB.predict(features[50000:,:])==labels[50000:]))\n",
    "    \n",
    "plt.plot(vals, test_acc, '.-')"
   ]
  },
  {
   "cell_type": "code",
   "execution_count": 94,
   "metadata": {},
   "outputs": [
    {
     "name": "stdout",
     "output_type": "stream",
     "text": [
      "0.01 0.5094\n",
      "0.05 0.55265\n",
      "0.1 0.5605\n",
      "0.15 0.56225\n",
      "0.2 0.56245\n",
      "0.3 0.5611\n",
      "0.5 0.55705\n",
      "1 0.54765\n"
     ]
    },
    {
     "data": {
      "text/plain": [
       "[<matplotlib.lines.Line2D at 0x7f36787cb160>]"
      ]
     },
     "execution_count": 94,
     "metadata": {},
     "output_type": "execute_result"
    },
    {
     "data": {
      "image/png": "[encoded data removed]",
      "text/plain": [
       "<Figure size 432x288 with 1 Axes>"
      ]
     },
     "metadata": {
      "needs_background": "light"
     },
     "output_type": "display_data"
    }
   ],
   "source": [
    "test_acc = []\n",
    "vals = [0.01, 0.05, 0.1, 0.15, 0.20, 0.3, 0.5, 1]\n",
    "for i in vals:\n",
    "    gNB = LinearSVC(C=i)\n",
    "    gNB.fit(features[:50000,:],labels[:50000])\n",
    "    test_acc.append(np.mean(gNB.predict(features[50000:,:])==labels[50000:]))\n",
    "    print(i, np.mean(gNB.predict(features[50000:,:])==labels[50000:]))\n",
    "    \n",
    "plt.plot(vals, test_acc, '.-')"
   ]
  },
  {
   "cell_type": "markdown",
   "metadata": {},
   "source": [
    "### Extracting features from a sklearn model"
   ]
  },
  {
   "cell_type": "code",
   "execution_count": 22,
   "metadata": {},
   "outputs": [],
   "source": [
    "def getFeatures(classifier):\n",
    "    classifier.fit(features, labels)\n",
    "    f1 = classifier.predict_proba(features)\n",
    "    f2 = classifier.predict_proba(features_test)\n",
    "    print(' training accuracy: ', np.mean(classifier.predict(features)==labels))\n",
    "    return f1, f2\n",
    "\n",
    "def getFeaturesOneHot(classifier):\n",
    "    classifier.fit(features, labels)\n",
    "    f1 = classifier.predict(features)\n",
    "    f2 = classifier.predict(features_test)\n",
    "    print(' training accuracy: ', np.mean(classifier.predict(features)==labels))\n",
    "    return to_categorical(f1, num_classes=20), to_categorical(f2, num_classes=20)"
   ]
  },
  {
   "cell_type": "code",
   "execution_count": 54,
   "metadata": {},
   "outputs": [
    {
     "name": "stdout",
     "output_type": "stream",
     "text": [
      " training accuracy:  0.8274571428571429\n"
     ]
    },
    {
     "name": "stderr",
     "output_type": "stream",
     "text": [
      "/network/home/penmetss/fastai/lib/python3.6/site-packages/sklearn/linear_model/logistic.py:432: FutureWarning: Default solver will be changed to 'lbfgs' in 0.22. Specify a solver to silence this warning.\n",
      "  FutureWarning)\n",
      "/network/home/penmetss/fastai/lib/python3.6/site-packages/sklearn/linear_model/logistic.py:469: FutureWarning: Default multi_class will be changed to 'auto' in 0.22. Specify the multi_class option to silence this warning.\n",
      "  \"this warning.\", FutureWarning)\n"
     ]
    },
    {
     "name": "stdout",
     "output_type": "stream",
     "text": [
      " training accuracy:  0.7188571428571429\n",
      " training accuracy:  0.8332714285714286\n",
      " training accuracy:  0.876\n"
     ]
    }
   ],
   "source": [
    "m1_train, m1_test = getFeatures(MultinomialNB(0.15))\n",
    "m2_train, m2_test = getFeatures(LogisticRegression(C=1))\n",
    "m5_train, m5_test = getFeaturesOneHot(LinearSVC(C=0.2))\n",
    "m9_train, m9_test = getFeaturesOneHot(RidgeClassifier())"
   ]
  },
  {
   "cell_type": "markdown",
   "metadata": {},
   "source": [
    "### Extracting features from pytorch models (saved)"
   ]
  },
  {
   "cell_type": "code",
   "execution_count": 55,
   "metadata": {},
   "outputs": [],
   "source": [
    "# load predictions\n",
    "def pickle2np(filename=\"preds/bert-preds-test.p\"):\n",
    "    tmp = pickle.load( open( filename, \"rb\" ) )\n",
    "    preds = list()\n",
    "    for i in range(len(tmp)):\n",
    "        for j in range(len(tmp[i])):\n",
    "            preds.append(list(tmp[i][j]))\n",
    "            \n",
    "    return np.array(preds)\n",
    "\n",
    "m3_train = pickle2np(\"preds/bert-preds-train.p\")\n",
    "m3_test = pickle2np(\"preds/bert-preds-test.p\")\n",
    "m4_train = pickle2np(\"preds/xlnet-preds-train.p\")\n",
    "m4_test = pickle2np(\"preds/xlnet-preds-test.p\")"
   ]
  },
  {
   "cell_type": "code",
   "execution_count": 56,
   "metadata": {},
   "outputs": [],
   "source": [
    "# m3_train = m3_train[:3000, :]\n",
    "# m4_train = m4_train[:3000, :]"
   ]
  },
  {
   "cell_type": "code",
   "execution_count": 57,
   "metadata": {},
   "outputs": [],
   "source": [
    "# stacking the features\n",
    "features = np.concatenate((m1_train, m2_train, m3_train, m4_train, m5_train, m9_train),axis=1)\n",
    "test_features = np.concatenate((m1_test, m2_test, m3_test, m4_test, m5_test, m9_test),axis=1)\n",
    "labels = df.category_id"
   ]
  },
  {
   "cell_type": "code",
   "execution_count": 27,
   "metadata": {},
   "outputs": [
    {
     "ename": "IndexError",
     "evalue": "index 24413 is out of bounds for axis 0 with size 3000",
     "output_type": "error",
     "traceback": [
      "\u001b[0;31m---------------------------------------------------------------------------\u001b[0m",
      "\u001b[0;31mIndexError\u001b[0m                                Traceback (most recent call last)",
      "\u001b[0;32m<ipython-input-27-5c573a7367bb>\u001b[0m in \u001b[0;36m<module>\u001b[0;34m\u001b[0m\n\u001b[1;32m      1\u001b[0m \u001b[0;31m# uncomment if you want to work on a smaller sample\u001b[0m\u001b[0;34m\u001b[0m\u001b[0;34m\u001b[0m\u001b[0;34m\u001b[0m\u001b[0m\n\u001b[1;32m      2\u001b[0m \u001b[0msamples\u001b[0m \u001b[0;34m=\u001b[0m \u001b[0mnp\u001b[0m\u001b[0;34m.\u001b[0m\u001b[0mrandom\u001b[0m\u001b[0;34m.\u001b[0m\u001b[0mrandint\u001b[0m\u001b[0;34m(\u001b[0m\u001b[0;36m70000\u001b[0m\u001b[0;34m,\u001b[0m\u001b[0msize\u001b[0m\u001b[0;34m=\u001b[0m\u001b[0;34m(\u001b[0m\u001b[0;36m1000\u001b[0m\u001b[0;34m)\u001b[0m\u001b[0;34m)\u001b[0m\u001b[0;34m\u001b[0m\u001b[0;34m\u001b[0m\u001b[0m\n\u001b[0;32m----> 3\u001b[0;31m \u001b[0mfeatures\u001b[0m \u001b[0;34m=\u001b[0m \u001b[0mfeatures\u001b[0m\u001b[0;34m[\u001b[0m\u001b[0msamples\u001b[0m\u001b[0;34m,\u001b[0m\u001b[0;34m:\u001b[0m\u001b[0;34m]\u001b[0m\u001b[0;34m\u001b[0m\u001b[0;34m\u001b[0m\u001b[0m\n\u001b[0m\u001b[1;32m      4\u001b[0m \u001b[0mlabels\u001b[0m \u001b[0;34m=\u001b[0m \u001b[0mdf\u001b[0m\u001b[0;34m.\u001b[0m\u001b[0mcategory_id\u001b[0m\u001b[0;34m[\u001b[0m\u001b[0msamples\u001b[0m\u001b[0;34m]\u001b[0m\u001b[0;34m\u001b[0m\u001b[0;34m\u001b[0m\u001b[0m\n\u001b[1;32m      5\u001b[0m \u001b[0mfeatures\u001b[0m\u001b[0;34m.\u001b[0m\u001b[0mshape\u001b[0m\u001b[0;34m\u001b[0m\u001b[0;34m\u001b[0m\u001b[0m\n",
      "\u001b[0;31mIndexError\u001b[0m: index 24413 is out of bounds for axis 0 with size 3000"
     ]
    }
   ],
   "source": [
    "# uncomment if you want to work on a smaller sample\n",
    "samples = np.random.randint(70000,size=(1000))\n",
    "features = features[samples,:]\n",
    "labels = df.category_id[samples]\n",
    "features.shape"
   ]
  },
  {
   "cell_type": "code",
   "execution_count": 95,
   "metadata": {},
   "outputs": [
    {
     "name": "stdout",
     "output_type": "stream",
     "text": [
      "[1]\tvalid_0's multi_logloss: 2.74731\n",
      "Training until validation scores don't improve for 5 rounds\n",
      "[2]\tvalid_0's multi_logloss: 2.63327\n",
      "[3]\tvalid_0's multi_logloss: 2.55403\n",
      "[4]\tvalid_0's multi_logloss: 2.4936\n",
      "[5]\tvalid_0's multi_logloss: 2.44358\n",
      "[6]\tvalid_0's multi_logloss: 2.40013\n",
      "[7]\tvalid_0's multi_logloss: 2.36346\n",
      "[8]\tvalid_0's multi_logloss: 2.33169\n",
      "[9]\tvalid_0's multi_logloss: 2.30372\n",
      "[10]\tvalid_0's multi_logloss: 2.27753\n",
      "[11]\tvalid_0's multi_logloss: 2.25549\n",
      "[12]\tvalid_0's multi_logloss: 2.23416\n",
      "[13]\tvalid_0's multi_logloss: 2.21476\n",
      "[14]\tvalid_0's multi_logloss: 2.19644\n",
      "[15]\tvalid_0's multi_logloss: 2.17966\n",
      "[16]\tvalid_0's multi_logloss: 2.16431\n",
      "[17]\tvalid_0's multi_logloss: 2.15013\n",
      "[18]\tvalid_0's multi_logloss: 2.13587\n",
      "[19]\tvalid_0's multi_logloss: 2.12357\n",
      "[20]\tvalid_0's multi_logloss: 2.11102\n",
      "[21]\tvalid_0's multi_logloss: 2.0989\n",
      "[22]\tvalid_0's multi_logloss: 2.08789\n",
      "[23]\tvalid_0's multi_logloss: 2.07726\n",
      "[24]\tvalid_0's multi_logloss: 2.06872\n",
      "[25]\tvalid_0's multi_logloss: 2.05929\n",
      "[26]\tvalid_0's multi_logloss: 2.05003\n",
      "[27]\tvalid_0's multi_logloss: 2.04085\n",
      "[28]\tvalid_0's multi_logloss: 2.03284\n",
      "[29]\tvalid_0's multi_logloss: 2.02623\n",
      "[30]\tvalid_0's multi_logloss: 2.01907\n",
      "[31]\tvalid_0's multi_logloss: 2.0116\n",
      "[32]\tvalid_0's multi_logloss: 2.00502\n",
      "[33]\tvalid_0's multi_logloss: 1.99924\n",
      "[34]\tvalid_0's multi_logloss: 1.99314\n",
      "[35]\tvalid_0's multi_logloss: 1.98681\n",
      "[36]\tvalid_0's multi_logloss: 1.98099\n",
      "[37]\tvalid_0's multi_logloss: 1.97554\n",
      "[38]\tvalid_0's multi_logloss: 1.97065\n",
      "[39]\tvalid_0's multi_logloss: 1.96605\n",
      "[40]\tvalid_0's multi_logloss: 1.96131\n",
      "[41]\tvalid_0's multi_logloss: 1.95676\n",
      "[42]\tvalid_0's multi_logloss: 1.95219\n",
      "[43]\tvalid_0's multi_logloss: 1.94839\n",
      "[44]\tvalid_0's multi_logloss: 1.94425\n",
      "[45]\tvalid_0's multi_logloss: 1.94044\n",
      "[46]\tvalid_0's multi_logloss: 1.93607\n",
      "[47]\tvalid_0's multi_logloss: 1.93136\n",
      "[48]\tvalid_0's multi_logloss: 1.92751\n",
      "[49]\tvalid_0's multi_logloss: 1.92307\n",
      "[50]\tvalid_0's multi_logloss: 1.91927\n",
      "[51]\tvalid_0's multi_logloss: 1.91557\n",
      "[52]\tvalid_0's multi_logloss: 1.91204\n",
      "[53]\tvalid_0's multi_logloss: 1.9087\n",
      "[54]\tvalid_0's multi_logloss: 1.90559\n",
      "[55]\tvalid_0's multi_logloss: 1.90157\n",
      "[56]\tvalid_0's multi_logloss: 1.89909\n",
      "[57]\tvalid_0's multi_logloss: 1.89497\n",
      "[58]\tvalid_0's multi_logloss: 1.89135\n",
      "[59]\tvalid_0's multi_logloss: 1.88818\n",
      "[60]\tvalid_0's multi_logloss: 1.88405\n",
      "[61]\tvalid_0's multi_logloss: 1.8809\n",
      "[62]\tvalid_0's multi_logloss: 1.87685\n",
      "[63]\tvalid_0's multi_logloss: 1.87354\n",
      "[64]\tvalid_0's multi_logloss: 1.87103\n",
      "[65]\tvalid_0's multi_logloss: 1.86853\n",
      "[66]\tvalid_0's multi_logloss: 1.86507\n",
      "[67]\tvalid_0's multi_logloss: 1.86177\n",
      "[68]\tvalid_0's multi_logloss: 1.85789\n",
      "[69]\tvalid_0's multi_logloss: 1.85453\n",
      "[70]\tvalid_0's multi_logloss: 1.85124\n",
      "[71]\tvalid_0's multi_logloss: 1.84877\n",
      "[72]\tvalid_0's multi_logloss: 1.84587\n",
      "[73]\tvalid_0's multi_logloss: 1.84305\n",
      "[74]\tvalid_0's multi_logloss: 1.84051\n",
      "[75]\tvalid_0's multi_logloss: 1.83793\n",
      "[76]\tvalid_0's multi_logloss: 1.83533\n",
      "[77]\tvalid_0's multi_logloss: 1.83328\n",
      "[78]\tvalid_0's multi_logloss: 1.83011\n",
      "[79]\tvalid_0's multi_logloss: 1.82739\n",
      "[80]\tvalid_0's multi_logloss: 1.82499\n",
      "[81]\tvalid_0's multi_logloss: 1.82217\n",
      "[82]\tvalid_0's multi_logloss: 1.81969\n",
      "[83]\tvalid_0's multi_logloss: 1.817\n",
      "[84]\tvalid_0's multi_logloss: 1.81481\n",
      "[85]\tvalid_0's multi_logloss: 1.81216\n",
      "[86]\tvalid_0's multi_logloss: 1.80992\n",
      "[87]\tvalid_0's multi_logloss: 1.80805\n",
      "[88]\tvalid_0's multi_logloss: 1.80547\n",
      "[89]\tvalid_0's multi_logloss: 1.80321\n",
      "[90]\tvalid_0's multi_logloss: 1.80159\n",
      "[91]\tvalid_0's multi_logloss: 1.79969\n",
      "[92]\tvalid_0's multi_logloss: 1.7974\n",
      "[93]\tvalid_0's multi_logloss: 1.79549\n",
      "[94]\tvalid_0's multi_logloss: 1.79337\n",
      "[95]\tvalid_0's multi_logloss: 1.79094\n",
      "[96]\tvalid_0's multi_logloss: 1.78897\n",
      "[97]\tvalid_0's multi_logloss: 1.78729\n",
      "[98]\tvalid_0's multi_logloss: 1.78511\n",
      "[99]\tvalid_0's multi_logloss: 1.78356\n",
      "[100]\tvalid_0's multi_logloss: 1.7823\n",
      "Did not meet early stopping. Best iteration is:\n",
      "[100]\tvalid_0's multi_logloss: 1.7823\n",
      "test_acc:  0.5113\n"
     ]
    }
   ],
   "source": [
    "params = {\n",
    " 'task': 'train'\n",
    " , 'boosting_type': 'gbdt'\n",
    " , 'objective': 'multiclass'\n",
    " , 'num_class': 20\n",
    " , 'metric': 'multi_logloss'\n",
    " , 'min_data': 1\n",
    " , 'verbose': -1\n",
    "}\n",
    "\n",
    "lgb_train = lgb.Dataset(features[:60000,:], labels[:60000])\n",
    "lgb_eval = lgb.Dataset(features[60000:,:], labels[60000:], reference=lgb_train)\n",
    "gbm = lgb.train(params,\n",
    "                lgb_train,\n",
    "                num_boost_round=100,\n",
    "                valid_sets=lgb_eval,\n",
    "                early_stopping_rounds=5)\n",
    "y_pred = gbm.predict(features[60000:], num_iteration=gbm.best_iteration)\n",
    "print('test_acc: ', np.mean(np.argmax(y_pred, axis=1)==labels[60000:]))"
   ]
  },
  {
   "cell_type": "code",
   "execution_count": 28,
   "metadata": {
    "scrolled": true
   },
   "outputs": [
    {
     "name": "stdout",
     "output_type": "stream",
     "text": [
      "LinearSVC\n"
     ]
    },
    {
     "name": "stderr",
     "output_type": "stream",
     "text": [
      "/network/home/penmetss/fastai/lib/python3.6/site-packages/sklearn/svm/base.py:929: ConvergenceWarning: Liblinear failed to converge, increase the number of iterations.\n",
      "  \"the number of iterations.\", ConvergenceWarning)\n",
      "/network/home/penmetss/fastai/lib/python3.6/site-packages/sklearn/svm/base.py:929: ConvergenceWarning: Liblinear failed to converge, increase the number of iterations.\n",
      "  \"the number of iterations.\", ConvergenceWarning)\n",
      "/network/home/penmetss/fastai/lib/python3.6/site-packages/sklearn/svm/base.py:929: ConvergenceWarning: Liblinear failed to converge, increase the number of iterations.\n",
      "  \"the number of iterations.\", ConvergenceWarning)\n",
      "/network/home/penmetss/fastai/lib/python3.6/site-packages/sklearn/svm/base.py:929: ConvergenceWarning: Liblinear failed to converge, increase the number of iterations.\n",
      "  \"the number of iterations.\", ConvergenceWarning)\n",
      "/network/home/penmetss/fastai/lib/python3.6/site-packages/sklearn/svm/base.py:929: ConvergenceWarning: Liblinear failed to converge, increase the number of iterations.\n",
      "  \"the number of iterations.\", ConvergenceWarning)\n"
     ]
    },
    {
     "name": "stdout",
     "output_type": "stream",
     "text": [
      "fold_idx 0\n",
      "fold_idx 1\n",
      "fold_idx 2\n",
      "fold_idx 3\n",
      "fold_idx 4\n",
      "time taken:  5.800466775894165\n",
      "XGBClassifier\n",
      "fold_idx 0\n",
      "fold_idx 1\n",
      "fold_idx 2\n",
      "fold_idx 3\n",
      "fold_idx 4\n",
      "time taken:  51.430683612823486\n"
     ]
    }
   ],
   "source": [
    "\n",
    "models = [\n",
    "#     RandomForestClassifier(n_estimators=100, max_depth=5, random_state=0),\n",
    "#     LogisticRegression(),\n",
    "    LinearSVC(),\n",
    "    XGBClassifier(),\n",
    "#     AdaBoostClassifier(),\n",
    "#     KNeighborsClassifier()\n",
    "#     GaussianNB(),\n",
    "#     KNeighborsClassifier(),\n",
    "#     GradientBoostingClassifier()\n",
    "]\n",
    "\n",
    "# 5 Cross-validation\n",
    "CV = 5\n",
    "cv_df = pd.DataFrame(index=range(CV * len(models)))\n",
    "\n",
    "entries = []\n",
    "for model in models:\n",
    "    model_name = model.__class__.__name__\n",
    "    print(model_name)\n",
    "    start_time = time()\n",
    "    accuracies = cross_val_score(model, features, labels, scoring='accuracy', cv=CV)\n",
    "    for fold_idx, accuracy in enumerate(accuracies):\n",
    "        print('fold_idx, accuracy: ', fold_idx, accuracy)\n",
    "        entries.append((model_name, fold_idx, accuracy))\n",
    "    print('time taken: ', time()-start_time)\n",
    "    \n",
    "cv_df = pd.DataFrame(entries, columns=['model_name', 'fold_idx', 'accuracy'])"
   ]
  },
  {
   "cell_type": "code",
   "execution_count": 30,
   "metadata": {},
   "outputs": [
    {
     "data": {
      "text/html": [
       "<div>\n",
       "<style scoped>\n",
       "    .dataframe tbody tr th:only-of-type {\n",
       "        vertical-align: middle;\n",
       "    }\n",
       "\n",
       "    .dataframe tbody tr th {\n",
       "        vertical-align: top;\n",
       "    }\n",
       "\n",
       "    .dataframe thead th {\n",
       "        text-align: right;\n",
       "    }\n",
       "</style>\n",
       "<table border=\"1\" class=\"dataframe\">\n",
       "  <thead>\n",
       "    <tr style=\"text-align: right;\">\n",
       "      <th></th>\n",
       "      <th>Mean Accuracy</th>\n",
       "      <th>Standard deviation</th>\n",
       "    </tr>\n",
       "    <tr>\n",
       "      <th>model_name</th>\n",
       "      <th></th>\n",
       "      <th></th>\n",
       "    </tr>\n",
       "  </thead>\n",
       "  <tbody>\n",
       "    <tr>\n",
       "      <td>LinearSVC</td>\n",
       "      <td>0.998338</td>\n",
       "      <td>0.002018</td>\n",
       "    </tr>\n",
       "    <tr>\n",
       "      <td>XGBClassifier</td>\n",
       "      <td>0.996336</td>\n",
       "      <td>0.001387</td>\n",
       "    </tr>\n",
       "  </tbody>\n",
       "</table>\n",
       "</div>"
      ],
      "text/plain": [
       "               Mean Accuracy  Standard deviation\n",
       "model_name                                      \n",
       "LinearSVC           0.998338            0.002018\n",
       "XGBClassifier       0.996336            0.001387"
      ]
     },
     "execution_count": 30,
     "metadata": {},
     "output_type": "execute_result"
    }
   ],
   "source": [
    "mean_accuracy = cv_df.groupby('model_name').accuracy.mean()\n",
    "std_accuracy = cv_df.groupby('model_name').accuracy.std()\n",
    "\n",
    "acc = pd.concat([mean_accuracy, std_accuracy], axis= 1, \n",
    "          ignore_index=True)\n",
    "acc.columns = ['Mean Accuracy', 'Standard deviation']\n",
    "acc"
   ]
  },
  {
   "cell_type": "markdown",
   "metadata": {},
   "source": [
    "### fine tuning the meta learner"
   ]
  },
  {
   "cell_type": "code",
   "execution_count": 29,
   "metadata": {},
   "outputs": [
    {
     "name": "stdout",
     "output_type": "stream",
     "text": [
      "0.01 0.89\n",
      "0.1 0.9\n",
      "0.2 0.88\n",
      "0.3 0.88\n",
      "1 0.85\n"
     ]
    }
   ],
   "source": [
    "for eta in [0.01, 0.1, 0.2, 0.3, 1]:\n",
    "    gNB = XGBClassifier(learning_rate=eta)\n",
    "    gNB.fit(features[:900,:],labels[:900])\n",
    "    print(eta, np.mean(gNB.predict(features[900:,:])==labels[900:]))"
   ]
  },
  {
   "cell_type": "markdown",
   "metadata": {},
   "source": [
    "### fit classifier on full dataset"
   ]
  },
  {
   "cell_type": "code",
   "execution_count": 15,
   "metadata": {},
   "outputs": [
    {
     "name": "stdout",
     "output_type": "stream",
     "text": [
      "(70000, 120) (70000,)\n",
      "367.2468032836914\n"
     ]
    },
    {
     "name": "stderr",
     "output_type": "stream",
     "text": [
      "/network/home/penmetss/fastai/lib/python3.6/site-packages/sklearn/svm/base.py:929: ConvergenceWarning: Liblinear failed to converge, increase the number of iterations.\n",
      "  \"the number of iterations.\", ConvergenceWarning)\n"
     ]
    }
   ],
   "source": [
    "print(features.shape,labels.shape)\n",
    "reg = LinearSVC()\n",
    "start_time = time()\n",
    "reg.fit(features,labels)\n",
    "print(time()-start_time)"
   ]
  },
  {
   "cell_type": "code",
   "execution_count": 16,
   "metadata": {},
   "outputs": [
    {
     "name": "stdout",
     "output_type": "stream",
     "text": [
      "0.8848428571428572\n"
     ]
    }
   ],
   "source": [
    "# get predictions and training accuracy\n",
    "print(np.mean(reg.predict(features)==labels))\n",
    "preds = reg.predict(test_features)"
   ]
  },
  {
   "cell_type": "code",
   "execution_count": 17,
   "metadata": {},
   "outputs": [
    {
     "data": {
      "text/plain": [
       "(30000,)"
      ]
     },
     "execution_count": 17,
     "metadata": {},
     "output_type": "execute_result"
    }
   ],
   "source": [
    "preds.shape"
   ]
  },
  {
   "cell_type": "code",
   "execution_count": 18,
   "metadata": {},
   "outputs": [],
   "source": [
    "test_preds = pd.DataFrame()\n",
    "test_preds['Id'] = df2['id']\n",
    "test_preds['Category'] = mapping[preds]\n"
   ]
  },
  {
   "cell_type": "code",
   "execution_count": 19,
   "metadata": {},
   "outputs": [
    {
     "data": {
      "text/html": [
       "<a href='test.csv' target='_blank'>test.csv</a><br>"
      ],
      "text/plain": [
       "/network/home/penmetss/comp551/test.csv"
      ]
     },
     "execution_count": 19,
     "metadata": {},
     "output_type": "execute_result"
    }
   ],
   "source": [
    "test_preds.to_csv(\"test.csv\", index=False)\n",
    "from IPython.display import FileLink, FileLinks\n",
    "FileLink('test.csv')"
   ]
  },
  {
   "cell_type": "code",
   "execution_count": null,
   "metadata": {},
   "outputs": [],
   "source": []
  }
 ],
 "metadata": {
  "kernelspec": {
   "display_name": "Python 3",
   "language": "python",
   "name": "python3"
  },
  "language_info": {
   "codemirror_mode": {
    "name": "ipython",
    "version": 3
   },
   "file_extension": ".py",
   "mimetype": "text/x-python",
   "name": "python",
   "nbconvert_exporter": "python",
   "pygments_lexer": "ipython3",
   "version": "3.6.8"
  }
 },
 "nbformat": 4,
 "nbformat_minor": 2
}
